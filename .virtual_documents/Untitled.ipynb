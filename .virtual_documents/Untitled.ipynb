


# Dependencies
import pandas as pd
import scipy.stats as st
import numpy as np
import matplotlib as plt


# Loading cleaned dataframe
df = pd.read_csv('clean_median_sale_price_v2_df.csv')
df.head()


df.info()


# Convert values to Numeric
df = df.fillna(0)
column_name = ""
start_col_ind = 2
end_col_ind = (len(df.columns) - 50)
for i in range(start_col_ind, end_col_ind):
    column_name = df.columns[i]
    df[column_name] = df[column_name].str.replace(",", "")
    df[column_name] = df[column_name].str.replace(".", "")
    df[column_name] = pd.to_numeric(df[column_name])


# Calculate monthly moving averages
# def get_delta_per_month(data):
#     list_of_cities = df['RegionName']
#     col_pos = 2
#     for i in len(columns):"
#         for index, row in df.iterrows():
#             pos1 = 
# get_delta_per_month(df)

difference_df = df.diff(axis=1)
