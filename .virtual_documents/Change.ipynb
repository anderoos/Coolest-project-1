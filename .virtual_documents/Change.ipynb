


# Dependencies
import pandas as pd
import scipy.stats as st
import numpy as np
import matplotlib.pyplot as plt
import warnings 
import seaborn as sns

# Custom Scripts
import project1scripts as custom

warnings.filterwarnings('ignore')


# Loading cleaned dataframe
df = pd.read_csv('clean_median_sale_price_v2_df.csv')

# Data Cleaning
# Convert values to Numeric
# df = df.fillna(0)
# for column in df.columns[2:]:
#     df[column] = df[column].str.replace(",", "")
#     df[column] = df[column].str.replace(".", "")
#     df[column] = pd.to_numeric(df[column])

# Pushed cleaned file on commit 616a2d9d01a7a68f58a90dd7b8d92b0e312a381"
# df.to_csv('clean_median_sale_price_v2_df.csv')
# df.info()

df.head()


ne_df, se_df, mw_df, w_df, sw_df = custom.split_regions(df)
ne_df.head()


# Convert entire df to percent changes
# pct_df = df.iloc[:, 4:].pct_change(axis=1)
# pct_df = pct_df.drop("4/30/2008", axis=1)
# new_york = pct_df.iloc[1,2:]

# Capture city names
ne_cities = ne_df['RegionName']
se_cities = se_df['RegionName']
mw_cities = mw_df['RegionName']
w_cities = w_df['RegionName']
sw_cities = sw_df['RegionName']

# Calculate pct_changes
df_ne_pct = ne_df.iloc[:, 2:].pct_change(axis=1)
df_se_pct = se_df.iloc[:, 2:].pct_change(axis=1)
df_mw_pct = mw_df.iloc[:, 2:].pct_change(axis=1)
df_w_pct = w_df.iloc[:, 2:].pct_change(axis=1)
df_sw_pct = sw_df.iloc[:, 2:].pct_change(axis=1)

# Concat cities and drop empty column
df_ne_pct = pd.concat([ne_cities, df_ne_pct], axis=1).drop("4/30/08", axis=1)
df_se_pct = pd.concat([se_cities, df_se_pct], axis=1).drop("4/30/08", axis=1)
df_mw_pct = pd.concat([mw_cities, df_mw_pct], axis=1).drop("4/30/08", axis=1)
df_w_pct = pd.concat([w_cities, df_w_pct], axis=1).drop("4/30/08", axis=1)
df_sw_pct = pd.concat([sw_cities, df_sw_pct], axis=1).drop("4/30/08", axis=1)


df_ne_pct.head()


# Exporting to files

# pct_df.to_csv("pct-files/percent_changes.csv")

# df_ne_pct.to_csv('pct-files/NE-percentages.csv', index=False)
# df_se_pct.to_csv('pct-files/SE-percentages.csv', index=False)
# df_mw_pct.to_csv('pct-files/MW-percentages.csv', index=False)
# df_w_pct.to_csv('pct-files/W-percentages.csv', index=False)
# df_sw_pct.to_csv('pct-files/SW-percentages.csv', index=False)


# Draw a heatmap with the numeric values in each cell
df_pct = pd.read_csv("pct-files/percent_changes.csv")
sns.set_theme()
f, ax = plt.subplots(figsize=(60, 30))
sns.heatmap(df_pct, fmt="d", linewidths=0, ax=ax)


# Transpose table so observations are on the rows
df_cities = pd.read_csv('cities_index.csv')
df_ne_pct.head()
df_cities_pct_pivot = df_pct.transpose()
df_cities_pct_pivot.columns = df_cities['RegionName']
df_cities_pct_pivot.head()

df_ne_pct = df_ne_pct.reset_index(drop=True).set_index('RegionName').transpose()
df_se_pct = df_se_pct.reset_index(drop=True).set_index('RegionName').transpose()
df_mw_pct = df_mw_pct.reset_index(drop=True).set_index('RegionName').transpose()
df_w_pct = df_w_pct.reset_index(drop=True).set_index('RegionName').transpose()
df_sw_pct = df_sw_pct.reset_index(drop=True).set_index('RegionName').transpose()


df_ne_pct.head()


# Plotting NE sector
fig1, ax1 = plt.subplots(5,1, figsize=(20,60))
ax1[0].boxplot(df_ne_pct)
ax1[0].set_xticklabels(df_ne_pct.columns, rotation=90)
ax1[0].set_ylim(-0.3, 0.3)
ax1[0].set_ylabel("% Change")
ax1[0].set_title("Price changes in SE Corridor")
ax1[1].boxplot(df_se_pct)
ax1[1].set_xticklabels(df_se_pct.columns, rotation=90)
ax1[1].set_ylim(-0.3, 0.3)
ax1[1].set_ylabel("% Change")
ax1[1].set_title("Price changes in SE Corridor")
ax1[2].boxplot(df_mw_pct)
ax1[2].set_xticklabels(df_mw_pct.columns, rotation=90)
ax1[2].set_ylim(-0.3, 0.3)
ax1[2].set_ylabel("% Change")
ax1[3].set_title("Price changes in MW Corridor")
ax1[3].boxplot(df_w_pct)
ax1[3].set_xticklabels(df_w_pct.columns, rotation=90)
ax1[3].set_ylim(-0.3, 0.3)
ax1[3].set_ylabel("% Change")
ax1[3].set_title("Price changes in Western Corridor")
ax1[4].boxplot(df_sw_pct)
ax1[4].set_xticklabels(df_sw_pct.columns, rotation=90)
ax1[4].set_ylim(-0.3, 0.3)
ax1[4].set_ylabel("% Change")
ax1[4].set_title("Price changes in SW Corridor")
plt.tight_layout()
plt.show()


# Draw a heatmap with the numeric values in each cell
sns.set_theme()
f2, ax2 = plt.subplots(figsize=(10, 10))
sns.heatmap(df_ne_pct, fmt="d", linewidths=0, ax=ax2)


df_cities_pct_pivot['New York, NY'].dtypes


# Generate table of variance:
cities_variance = {}
for city in df_cities_pct_pivot.columns:
    if df_cities_pct_pivot[city].dtype != "object":  # Check if the column is numeric
        city_variance = np.var(df_cities_pct_pivot[city])
        cities_variance[city] = city_variance
# print(cities_variance)

new_york_var = np.var(df_cities_pct_pivot["New York, NY"])
new_york_var
# df_cities_pct_pivot['New York, NY'] = df_cities_pct_pivot['New York, NY'].fillna(df_cities_pct_pivot['New York, NY'].mean())
df_cities_pct_pivot['New York, NY'].describe()
