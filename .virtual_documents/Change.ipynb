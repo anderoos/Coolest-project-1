


# Dependencies
import pandas as pd
import scipy.stats as st
import numpy as np
import matplotlib.pyplot as plt
import warnings 
import seaborn as sns

warnings.filterwarnings('ignore')


# Loading cleaned dataframe
df = pd.read_csv('clean_median_sale_price_v2_df.csv')
df.head()


df.info()


# Convert values to Numeric
df = df.fillna(0)
for column in df.columns[2:]:
    df[column] = df[column].str.replace(",", "")
    df[column] = df[column].str.replace(".", "")
    df[column] = pd.to_numeric(df[column])


df.info()


df.head()


df.to_csv('clean_median_sale_price_v2_df.csv')


# Getting differences
difference_df = df.iloc[:, 2:].diff(axis=1)
difference_df = difference_df.drop("4/30/2008", axis=1)
difference_df

# Sample for accuracy
ny_sample = difference_df.iloc[0,:]
print(ny_sample)


pct_df = df.iloc[:, 2:].pct_change(axis=1)
pct_df = pct_df.drop("4/30/2008", axis=1)
pct_df = pct_df.pivot(columns=
new_york = pct_df.iloc[1,2:]



# Draw a heatmap with the numeric values in each cell
sns.set_theme()
f, ax = plt.subplots(figsize=(22, 12))
sns.heatmap(pct_df, fmt="d", linewidths=.5, ax=ax)
