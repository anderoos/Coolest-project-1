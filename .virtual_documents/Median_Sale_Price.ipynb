import pandas as pd
import os


path = "ZillowData/2023 0927 - Metro_median_sale_price_uc_sfrcondo_sm_month.csv"

cwd = os.getcwd()
#print(cwd)


median_sale_price_df = pd.read_csv(path)
median_sale_price_df.tail()


#get the columns names

column_names = median_sale_price_df.columns

#remove the United States row and clear any blanks since 
clean_median_sale_price_df = median_sale_price_df.dropna(subset=["4/30/2008"])
clean_median_sale_price_df.tail()


clean_median_sale_price_v1_df = clean_median_sale_price_df.drop(columns=["RegionID", "SizeRank","RegionType"])
clean_median_sale_price_v1_df.head()


clean_median_sale_price_v2_df = clean_median_sale_price_v1_df.drop(index=0)
clean_median_sale_price_v2_df.head()


clean_median_sale_price_v2_df.to_csv("clean_median_sale_price_v2_df.csv", index=False)



